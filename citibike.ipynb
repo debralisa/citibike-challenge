{
 "cells": [
  {
   "cell_type": "code",
   "execution_count": null,
   "metadata": {},
   "outputs": [],
   "source": [
    "# Import dependencies\n",
    "import pandas as pd\n",
    "import numpy as np\n",
    "pd.set_option('max_colwidth', 400)"
   ]
  },
  {
   "cell_type": "code",
   "execution_count": null,
   "metadata": {},
   "outputs": [],
   "source": [
    "# Read the data into a Pandas DataFrame\n",
    "citibike_summer_df = pd.read_csv('Resources/JC-202206-citibike-tripdata.csv')\n",
    "citibike_summer_df.head()"
   ]
  },
  {
   "cell_type": "code",
   "execution_count": 31,
   "metadata": {},
   "outputs": [
    {
     "name": "stdout",
     "output_type": "stream",
     "text": [
      "<class 'pandas.core.frame.DataFrame'>\n",
      "Int64Index: 327032 entries, 0 to 115230\n",
      "Data columns (total 17 columns):\n",
      " #   Column              Non-Null Count   Dtype  \n",
      "---  ------              --------------   -----  \n",
      " 0   ride_id             327032 non-null  object \n",
      " 1   rideable_type       327032 non-null  object \n",
      " 2   started_at          327032 non-null  object \n",
      " 3   ended_at            327032 non-null  object \n",
      " 4   start_station_name  327032 non-null  object \n",
      " 5   start_station_id    327032 non-null  object \n",
      " 6   end_station_name    325940 non-null  object \n",
      " 7   end_station_id      325940 non-null  object \n",
      " 8   start_lat           327032 non-null  float64\n",
      " 9   start_lng           327032 non-null  float64\n",
      " 10  end_lat             326197 non-null  float64\n",
      " 11  end_lng             326197 non-null  float64\n",
      " 12  member_casual       327032 non-null  object \n",
      " 13  started_at_date     327032 non-null  object \n",
      " 14  started_at_time     327032 non-null  object \n",
      " 15  ended_at_date       327032 non-null  object \n",
      " 16  ended_at_time       327032 non-null  object \n",
      "dtypes: float64(4), object(13)\n",
      "memory usage: 44.9+ MB\n"
     ]
    }
   ],
   "source": [
    "#check the dataframe information\n",
    "citibike_summer_df.info()"
   ]
  },
  {
   "cell_type": "code",
   "execution_count": 32,
   "metadata": {},
   "outputs": [
    {
     "data": {
      "text/html": [
       "<div>\n",
       "<style scoped>\n",
       "    .dataframe tbody tr th:only-of-type {\n",
       "        vertical-align: middle;\n",
       "    }\n",
       "\n",
       "    .dataframe tbody tr th {\n",
       "        vertical-align: top;\n",
       "    }\n",
       "\n",
       "    .dataframe thead th {\n",
       "        text-align: right;\n",
       "    }\n",
       "</style>\n",
       "<table border=\"1\" class=\"dataframe\">\n",
       "  <thead>\n",
       "    <tr style=\"text-align: right;\">\n",
       "      <th></th>\n",
       "      <th>ride_id</th>\n",
       "      <th>rideable_type</th>\n",
       "      <th>started_at</th>\n",
       "      <th>ended_at</th>\n",
       "      <th>start_station_name</th>\n",
       "      <th>start_station_id</th>\n",
       "      <th>end_station_name</th>\n",
       "      <th>end_station_id</th>\n",
       "      <th>start_lat</th>\n",
       "      <th>start_lng</th>\n",
       "      <th>end_lat</th>\n",
       "      <th>end_lng</th>\n",
       "      <th>member_casual</th>\n",
       "    </tr>\n",
       "  </thead>\n",
       "  <tbody>\n",
       "    <tr>\n",
       "      <th>0</th>\n",
       "      <td>89CDCE3224502904</td>\n",
       "      <td>classic_bike</td>\n",
       "      <td>2022-07-21 18:19:45</td>\n",
       "      <td>2022-07-21 18:28:21</td>\n",
       "      <td>Marshall St &amp; 2 St</td>\n",
       "      <td>HB408</td>\n",
       "      <td>8 St &amp; Washington St</td>\n",
       "      <td>HB603</td>\n",
       "      <td>40.740802</td>\n",
       "      <td>-74.042521</td>\n",
       "      <td>40.745984</td>\n",
       "      <td>-74.028199</td>\n",
       "      <td>member</td>\n",
       "    </tr>\n",
       "    <tr>\n",
       "      <th>1</th>\n",
       "      <td>3E6E50F51BD4CBD9</td>\n",
       "      <td>electric_bike</td>\n",
       "      <td>2022-07-21 17:50:57</td>\n",
       "      <td>2022-07-21 17:59:17</td>\n",
       "      <td>Marshall St &amp; 2 St</td>\n",
       "      <td>HB408</td>\n",
       "      <td>11 St &amp; Washington St</td>\n",
       "      <td>HB502</td>\n",
       "      <td>40.740802</td>\n",
       "      <td>-74.042521</td>\n",
       "      <td>40.749985</td>\n",
       "      <td>-74.027150</td>\n",
       "      <td>casual</td>\n",
       "    </tr>\n",
       "    <tr>\n",
       "      <th>2</th>\n",
       "      <td>8A9058FAA9115562</td>\n",
       "      <td>electric_bike</td>\n",
       "      <td>2022-07-23 11:51:55</td>\n",
       "      <td>2022-07-23 11:59:16</td>\n",
       "      <td>Marshall St &amp; 2 St</td>\n",
       "      <td>HB408</td>\n",
       "      <td>Oakland Ave</td>\n",
       "      <td>JC022</td>\n",
       "      <td>40.740802</td>\n",
       "      <td>-74.042521</td>\n",
       "      <td>40.737604</td>\n",
       "      <td>-74.052478</td>\n",
       "      <td>member</td>\n",
       "    </tr>\n",
       "    <tr>\n",
       "      <th>3</th>\n",
       "      <td>C566A187663748AE</td>\n",
       "      <td>classic_bike</td>\n",
       "      <td>2022-07-30 20:34:40</td>\n",
       "      <td>2022-07-30 20:48:40</td>\n",
       "      <td>Marshall St &amp; 2 St</td>\n",
       "      <td>HB408</td>\n",
       "      <td>Bloomfield St &amp; 15 St</td>\n",
       "      <td>HB203</td>\n",
       "      <td>40.740802</td>\n",
       "      <td>-74.042521</td>\n",
       "      <td>40.754530</td>\n",
       "      <td>-74.026580</td>\n",
       "      <td>member</td>\n",
       "    </tr>\n",
       "    <tr>\n",
       "      <th>4</th>\n",
       "      <td>7E754D57276BE57E</td>\n",
       "      <td>classic_bike</td>\n",
       "      <td>2022-07-14 18:42:34</td>\n",
       "      <td>2022-07-14 18:49:45</td>\n",
       "      <td>Marshall St &amp; 2 St</td>\n",
       "      <td>HB408</td>\n",
       "      <td>Clinton St &amp; 7 St</td>\n",
       "      <td>HB303</td>\n",
       "      <td>40.740802</td>\n",
       "      <td>-74.042521</td>\n",
       "      <td>40.745420</td>\n",
       "      <td>-74.033320</td>\n",
       "      <td>casual</td>\n",
       "    </tr>\n",
       "  </tbody>\n",
       "</table>\n",
       "</div>"
      ],
      "text/plain": [
       "            ride_id  rideable_type           started_at             ended_at  \\\n",
       "0  89CDCE3224502904   classic_bike  2022-07-21 18:19:45  2022-07-21 18:28:21   \n",
       "1  3E6E50F51BD4CBD9  electric_bike  2022-07-21 17:50:57  2022-07-21 17:59:17   \n",
       "2  8A9058FAA9115562  electric_bike  2022-07-23 11:51:55  2022-07-23 11:59:16   \n",
       "3  C566A187663748AE   classic_bike  2022-07-30 20:34:40  2022-07-30 20:48:40   \n",
       "4  7E754D57276BE57E   classic_bike  2022-07-14 18:42:34  2022-07-14 18:49:45   \n",
       "\n",
       "   start_station_name start_station_id       end_station_name end_station_id  \\\n",
       "0  Marshall St & 2 St            HB408   8 St & Washington St          HB603   \n",
       "1  Marshall St & 2 St            HB408  11 St & Washington St          HB502   \n",
       "2  Marshall St & 2 St            HB408            Oakland Ave          JC022   \n",
       "3  Marshall St & 2 St            HB408  Bloomfield St & 15 St          HB203   \n",
       "4  Marshall St & 2 St            HB408      Clinton St & 7 St          HB303   \n",
       "\n",
       "   start_lat  start_lng    end_lat    end_lng member_casual  \n",
       "0  40.740802 -74.042521  40.745984 -74.028199        member  \n",
       "1  40.740802 -74.042521  40.749985 -74.027150        casual  \n",
       "2  40.740802 -74.042521  40.737604 -74.052478        member  \n",
       "3  40.740802 -74.042521  40.754530 -74.026580        member  \n",
       "4  40.740802 -74.042521  40.745420 -74.033320        casual  "
      ]
     },
     "execution_count": 32,
     "metadata": {},
     "output_type": "execute_result"
    }
   ],
   "source": [
    "#read in the csv file for july into a dataframe\n",
    "\n",
    "citibike_july_df = pd.read_csv('Resources/JC-202207-citbike-tripdata.csv')\n",
    "citibike_july_df.head()"
   ]
  },
  {
   "cell_type": "code",
   "execution_count": null,
   "metadata": {},
   "outputs": [],
   "source": [
    "#append the july dataframe to the summer dataframe (so june and july are combined)\n",
    "citibike_summer_df=citibike_summer_df.append(citibike_july_df)\n",
    "citibike_summer_df.tail(5)"
   ]
  },
  {
   "cell_type": "code",
   "execution_count": null,
   "metadata": {},
   "outputs": [],
   "source": [
    "#read august csv into august dataframe\n",
    "citibike_august_df = pd.read_csv('Resources/JC-202208-citibike-tripdata.csv')\n",
    "citibike_august_df.head()"
   ]
  },
  {
   "cell_type": "code",
   "execution_count": null,
   "metadata": {},
   "outputs": [],
   "source": [
    "#append august dataframe to the summer dataframe to complete 3 months of data total\n",
    "\n",
    "citibike_summer_df=citibike_summer_df.append(citibike_august_df)\n",
    "citibike_summer_df.tail(5)"
   ]
  },
  {
   "cell_type": "code",
   "execution_count": null,
   "metadata": {},
   "outputs": [],
   "source": [
    "# Read the november 2022 data into a Pandas DataFrame\n",
    "\n",
    "citibike_winter_df = pd.read_csv('Resources/JC-202211-citibike-tripdata.csv')\n",
    "citibike_winter_df.head()"
   ]
  },
  {
   "cell_type": "code",
   "execution_count": null,
   "metadata": {},
   "outputs": [],
   "source": [
    "#read the december 2022 data into a dataframe \n",
    "citibike_december_df = pd.read_csv('Resources/JC-202212-citibike-tripdata.csv')\n",
    "citibike_december_df.head()"
   ]
  },
  {
   "cell_type": "code",
   "execution_count": null,
   "metadata": {},
   "outputs": [],
   "source": [
    "#append the december dataframe to the winter dataframe and check last 5 rows\n",
    "citibike_winter_df=citibike_winter_df.append(citibike_december_df)\n",
    "citibike_winter_df.tail(5)"
   ]
  },
  {
   "cell_type": "code",
   "execution_count": null,
   "metadata": {},
   "outputs": [],
   "source": [
    "#read january 2023 csv file into january dataframe\n",
    "citibike_january_df = pd.read_csv('Resources/JC-202301-citibike-tripdata.csv')\n",
    "citibike_january_df.head()"
   ]
  },
  {
   "cell_type": "code",
   "execution_count": null,
   "metadata": {},
   "outputs": [],
   "source": [
    "#append january dataframe to winter dataframe to give 3 months total data combined\n",
    "citibike_winter_df=citibike_winter_df.append(citibike_january_df)\n",
    "citibike_winter_df.tail(5)"
   ]
  },
  {
   "cell_type": "code",
   "execution_count": null,
   "metadata": {},
   "outputs": [],
   "source": [
    "#import dependency and split the starting and ending trip date/time columns \n",
    "# to separate date and time columns in winter and summer dataframes\n",
    "\n",
    "from datetime import datetime\n",
    "citibike_summer_df[[\"started_at_date\", \"started_at_time\"]] = citibike_summer_df[\"started_at\"].str.split(expand=True)\n",
    "citibike_summer_df[[\"ended_at_date\", \"ended_at_time\"]] = citibike_summer_df[\"ended_at\"].str.split(expand=True)\n",
    "citibike_winter_df[[\"started_at_date\", \"started_at_time\"]] = citibike_winter_df[\"started_at\"].str.split(expand=True)\n",
    "citibike_winter_df[[\"ended_at_date\", \"ended_at_time\"]] = citibike_winter_df[\"ended_at\"].str.split(expand=True)\n"
   ]
  },
  {
   "cell_type": "code",
   "execution_count": null,
   "metadata": {},
   "outputs": [],
   "source": [
    "#confirm new split columns\n",
    "citibike_winter_df.head()"
   ]
  },
  {
   "cell_type": "code",
   "execution_count": null,
   "metadata": {},
   "outputs": [],
   "source": [
    "#confirm new split columns\n",
    "# citibike_summer_df.head()"
   ]
  },
  {
   "cell_type": "code",
   "execution_count": null,
   "metadata": {},
   "outputs": [],
   "source": [
    "#save summer dataframe to new csv file\n",
    "citibike_summer_df.to_csv(\"CombinedData/summer22data.csv\", index=False, header=True)\n",
    "citibike_summer_df.head()"
   ]
  },
  {
   "cell_type": "code",
   "execution_count": null,
   "metadata": {},
   "outputs": [],
   "source": [
    "#save winter dataframe to new csv file\n",
    "citibike_winter_df.to_csv(\"CombinedData/winter22data.csv\", index=False, header=True)\n",
    "\n",
    "citibike_winter_df.tail()"
   ]
  },
  {
   "cell_type": "code",
   "execution_count": null,
   "metadata": {},
   "outputs": [],
   "source": []
  }
 ],
 "metadata": {
  "kernelspec": {
   "display_name": "RUTDataViz2023_ML",
   "language": "python",
   "name": "python3"
  },
  "language_info": {
   "codemirror_mode": {
    "name": "ipython",
    "version": 3
   },
   "file_extension": ".py",
   "mimetype": "text/x-python",
   "name": "python",
   "nbconvert_exporter": "python",
   "pygments_lexer": "ipython3",
   "version": "3.10.9"
  },
  "orig_nbformat": 4
 },
 "nbformat": 4,
 "nbformat_minor": 2
}
